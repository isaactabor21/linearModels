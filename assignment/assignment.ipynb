{
  "cells": [
    {
      "cell_type": "markdown",
      "id": "e0c7b14a-e5aa-4abc-b48b-b8a9d20dacac",
      "metadata": {
        "id": "e0c7b14a-e5aa-4abc-b48b-b8a9d20dacac"
      },
      "source": [
        "# Assignment: Linear Models\n",
        "## Do three questions.\n",
        "### `! git clone https://github.com/ds4e/linearModels`"
      ]
    },
    {
      "cell_type": "markdown",
      "id": "bf4826b0",
      "metadata": {
        "id": "bf4826b0"
      },
      "source": [
        "**Q1.** Please answer the following questions in your own words.\n",
        "\n",
        "\n"
      ]
    },
    {
      "cell_type": "markdown",
      "id": "a9b8bbc1",
      "metadata": {},
      "source": [
        "**1. What makes a model \"linear\"? \"Linear\" in what?**\n",
        "\n",
        "A model is linear as long as the coefficients, $b$, enter the prediction as\n",
        "$$\n",
        "\\hat{y} = b \\cdot \\hat{x} = b_1 \\hat{x}_1 + b_2 \\hat{x}_2 + ... b_J \\hat{x}_J\n",
        "$$\n",
        "so that the relationship between $\\hat{y}$ and each $\\hat{x}_j$ is a linear one through $b_j$\n",
        "- Taking non-linear transformations of the $x_j$'s simply gives new variables, like $\\log(x_j)$ or $x_j^2$ -- *Transformations of the regressors don't make the model nonlinear*\n",
        "- Likewise, if there was a coefficient written in a funky nonlinear way, like $\\sqrt{ \\text{asinh}(b_j)}$, you can simply relabel that coefficient as $b_j \\leftarrow \\sqrt{ \\text{asinh}(b_j)}$ and make the model linear again.\n",
        "\n",
        "So, a model is considered \"linear\" when it is linear in its parameters. For example:\n",
        "\n",
        "y = β₀ + β₁x₁ + β₂x₂ + ... + βₙxₙ\n",
        "\n",
        "is linear because the weights $b_k$ enter the model in a multiplicative way with its respective $x_k$. \n",
        "\n",
        "Linear models optimally weight the explanatory variables in order to predict the outcome variable. Each weight $b_k$ allows the variable $x_k$ to have some impact on the predicted y. \n",
        "\n",
        "For it to go well, you need to think about interesting features to add, why they are useful, and how to optimally transform/engineer them. The choice of variables to include is a hyperparameter in a linear model like k was a hyperparameter in a k-NN model.\n",
        "\n",
        "They are extremely powerful and easily interpreted tools. \n"
      ]
    },
    {
      "cell_type": "markdown",
      "id": "fd345c70",
      "metadata": {},
      "source": [
        "**2. How do you interpret the coefficient for a dummy/one-hot-encoded variable? (This is a trick question, and the trick involves how you handle the intercept of the model.)**\n",
        "\n",
        "Assuming you dropped the first dummy variable to avoid the dummy variable trap and multicolinearity, the coefficient b of the one-hot-encoded variable will give you an interpretation for the average difference between when the dummy variable is 1 compared to when it is 0, holding all other variables constant. The coefficient is the average marginal effect of the dummy on y ceteris paribus. If you wanted to interpret it for the dummy variable == 0, the intercept represents the average value of y when the dummy variable and all other variables are 0. \n",
        "\n",
        "If you dropped the intercept and kept all dummies, each dummy coefficient shows the mean of the dependent variable for that category. \n",
        "\n",
        "**3. Can linear regression be used for classification? Explain why, or why not.**\n",
        "\n",
        "No, linear regression is not fit for classification. Classification imposes additional restrictions on the environment that cannot always be satisfied by a linear model. You could make it a binary 0/1 outcome so that you predict the probability of something occuring, but OLS might predict values less than zero or greater than one.   You could get outcomes like -2.3 or 5.6, and while that may seem like it works, it does not work well for all datasets especially with outliers. That is why it is better to use logistic regression or kNN, k-MC, trees, etc. for classification tasks. Linear regression is designed for predicting numeric continuous variables. \n",
        "\n",
        "\n",
        "**4. What are signs that your linear model is over-fitting?**\n",
        "\n",
        "You run into significant danger of overfitting the more complex the feature space (combo of interaction terms, polynomial families, log transformations, max-min normalization, PCA, too many variables, etc.) If you are using dozens or thousands of variables with interaction terms and such, you are probably overfitting. \n",
        "\n",
        "**5. Clearly explain multi-colinearity using the two-stage least squares technique.**\n",
        "\n",
        "Multicolinearity is when one predictor in the model is too similar to the other predictors so it is hard to tell which is actually influencing the outcome (unstable coefficient estimates, large standard errors, difficult to isolate individual variable effects). You can use 2SLS to see if a predictor actually has an independent effect on y. \n",
        "\n",
        "Stage 1: predict y using everything except $x_k$. Save the residuals \n",
        "\n",
        "Stage 2: predict $x_k$ (predictor k) using all the other predictors. Save the residuals\n",
        "\n",
        "Plot the residuals against one another. This is the variation in Y being explained by $x_k$ (the partial correlation between $x_k$ and y with the influence of other variables removed). If it is high correlation, then $x_k$ has a meaningful impact on y. If not, multicolinearity is a serious issue. \n",
        "\n",
        "\n",
        "**6. How can you incorporate nonlinear relationships between your target/response/dependent/outcome variable $y$ and your features/control/response/independent variables $x$ into your analysis?**\n",
        "\n",
        "You can incorporate nonlinear relationships between your response variable and your indepdent variables into your analysis through transformations of the regresssors. Taking non-linear transformations of the $x_j$'s simply gives new variables, like $\\log(x_j)$ or $x_j^2$ -- *So, Transformations of the regressors don't make the model nonlinear.*\n",
        "\n",
        "Likewise, if there was a coefficient written in a funky nonlinear way, like $\\sqrt{ \\text{asinh}(b_j)}$, you can simply relabel that coefficient as $b_j \\leftarrow \\sqrt{ \\text{asinh}(b_j)}$ and make the model linear again.\n",
        "\n",
        "As long as the coefficients, $b$, enter the prediction as\n",
        "$$\n",
        "\\hat{y} = b \\cdot \\hat{x} = b_1 \\hat{x}_1 + b_2 \\hat{x}_2 + ... b_J \\hat{x}_J\n",
        "$$\n",
        "the model is linear.\n",
        "\n",
        "\n",
        "7. What is the interpretation of the intercept? A slope coefficient for a variable? The coefficient for a dummy/one-hot-encoded variable?\n",
        "\n",
        "In the context of linear models, the interpretation of the intercept is that it is the predicted value of y when all other variables are 0. \n",
        "\n",
        "The interpretation of a slope coefficient for a variable in a linear model is the change in y for a one-unit increase in the variable holding all other variables constant. Put differently, it is the marginal effect of that variable. For each one unit increase in $x_k$, y changes by $b_k$ units. \n",
        "\n",
        "\n",
        "Assuming you dropped the first dummy variable to avoid the dummy variable trap and multicolinearity, the coefficient b of the one-hot-encoded variable will give you an interpretation for the average difference between when the dummy variable is 1 compared to when it is 0, holding all other variables constant. The coefficient is the average marginal effect of the dummy on y ceteris paribus. If you wanted to interpret it for the dummy variable == 0, the intercept represents the average value of y when the dummy variable and all other variables are 0. \n",
        "\n",
        "If you dropped the intercept and kept all dummies, each dummy coefficient shows the mean of the dependent variable for that category. "
      ]
    },
    {
      "cell_type": "markdown",
      "id": "53d59add",
      "metadata": {},
      "source": [
        "**Q2.** Load `./data/Q1_clean.csv`. "
      ]
    },
    {
      "cell_type": "code",
      "execution_count": 2,
      "id": "94b74e84",
      "metadata": {},
      "outputs": [],
      "source": [
        "import pandas as pd\n",
        "Q2 = pd.read_csv(\"/Users/isaactabor/linearModels/assignment/data/Q1_clean.csv\")"
      ]
    },
    {
      "cell_type": "markdown",
      "id": "25bf83c6-ff44-42d6-9b33-8be1b945860d",
      "metadata": {
        "id": "25bf83c6-ff44-42d6-9b33-8be1b945860d"
      },
      "source": [
        "\n",
        "The data include\n",
        "\n",
        "- `Price` per night\n",
        "- `Review Scores Rating`: The average rating for the property\n",
        "- `Neighbourhood `: The bourough of NYC. Note the space, or rename the variable.\n",
        "- `Property Type`: The kind of dwelling\n",
        "- `Room Type`: The kind of space being rented\n",
        "\n",
        "1. Compute the average prices and scores by `Neighbourhood `; which bourough is the most expensive on average? Create a kernel density plot of price and log price, grouping by `Neighbourhood `."
      ]
    },
    {
      "cell_type": "code",
      "execution_count": 3,
      "id": "d93ac58c",
      "metadata": {},
      "outputs": [
        {
          "name": "stdout",
          "output_type": "stream",
          "text": [
            "Index(['Price', 'Review Scores Rating', 'Neighbourhood ', 'Property Type',\n",
            "       'Room Type'],\n",
            "      dtype='object')\n",
            "  Neighbourhood   Average Price  Review Scores Rating\n",
            "0          Bronx      75.276498             91.654378\n",
            "1       Brooklyn     127.747378             92.363497\n",
            "2      Manhattan     183.664286             91.801496\n",
            "3         Queens      96.857233             91.549057\n",
            "4  Staten Island     146.166667             90.843750\n"
          ]
        }
      ],
      "source": [
        "print(Q2.columns)\n",
        "print(Q2.groupby('Neighbourhood ')[['Price', 'Review Scores Rating']].mean().rename(columns={\n",
        "    'Price': 'Average Price', \n",
        "    'Score': 'Average Review Score'\n",
        "})\n",
        ".reset_index())\n"
      ]
    },
    {
      "cell_type": "code",
      "execution_count": 4,
      "id": "4673cd9a",
      "metadata": {},
      "outputs": [],
      "source": [
        "import numpy as np\n",
        "Q2['Log Price'] = np.log(Q2['Price'])\n"
      ]
    },
    {
      "cell_type": "code",
      "execution_count": 5,
      "id": "b282d882",
      "metadata": {},
      "outputs": [
        {
          "data": {
            "image/png": "[encoded data removed]",
            "text/plain": [
              "<Figure size 1200x500 with 1 Axes>"
            ]
          },
          "metadata": {},
          "output_type": "display_data"
        },
        {
          "data": {
            "image/png": "[encoded data removed]",
            "text/plain": [
              "<Figure size 1200x500 with 1 Axes>"
            ]
          },
          "metadata": {},
          "output_type": "display_data"
        }
      ],
      "source": [
        "import seaborn as sns\n",
        "import matplotlib.pyplot as plt\n",
        "\n",
        "plt.figure(figsize=(12, 5))\n",
        "sns.kdeplot(data=Q2, x='Price', hue='Neighbourhood ', fill=True)\n",
        "plt.title(\"Kernel Density Plot of Price by Neighbourhood\")\n",
        "plt.xlabel(\"Price\")\n",
        "plt.show()\n",
        "\n",
        "plt.figure(figsize=(12, 5))\n",
        "sns.kdeplot(data=Q2, x='Log Price', hue='Neighbourhood ', fill=True)\n",
        "plt.title(\"Kernel Density Plot of Log Price by Neighbourhood\")\n",
        "plt.xlabel(\"Log Price\")\n",
        "plt.show()"
      ]
    },
    {
      "cell_type": "markdown",
      "id": "cf6a4d96",
      "metadata": {},
      "source": [
        "2. Regress price on `Neighbourhood ` by creating the appropriate dummy/one-hot-encoded variables, without an intercept in the linear model and using all the data. Compare the coefficients in the regression to the table from part 1. What pattern do you see? What are the coefficients in a regression of a continuous variable on one categorical variable?"
      ]
    },
    {
      "cell_type": "code",
      "execution_count": 6,
      "id": "8e92737d",
      "metadata": {},
      "outputs": [],
      "source": [
        "# Target Variable:\n",
        "y = Q2['Price']\n",
        "\n",
        "X_d = pd.get_dummies(Q2['Neighbourhood '],dtype='int') # Create brand dummies\n",
        "\n",
        "from sklearn.linear_model import LinearRegression # Import linear regression model\n",
        "reg = LinearRegression(fit_intercept=False).fit(X_d, y) # Fit the linear model & drop intercept\n",
        "results = pd.DataFrame({'variable':reg.feature_names_in_, 'coefficient': reg.coef_}) # Regression coefficients"
      ]
    },
    {
      "cell_type": "code",
      "execution_count": 7,
      "id": "8d67fe9f",
      "metadata": {},
      "outputs": [
        {
          "name": "stdout",
          "output_type": "stream",
          "text": [
            "R-squared:  0.04631389606035197\n",
            "        variable  coefficient\n",
            "0          Bronx    75.276498\n",
            "1       Brooklyn   127.747378\n",
            "2      Manhattan   183.664286\n",
            "3         Queens    96.857233\n",
            "4  Staten Island   146.166667\n",
            "  Neighbourhood   Average Price  Review Scores Rating\n",
            "0          Bronx      75.276498             91.654378\n",
            "1       Brooklyn     127.747378             92.363497\n",
            "2      Manhattan     183.664286             91.801496\n",
            "3         Queens      96.857233             91.549057\n",
            "4  Staten Island     146.166667             90.843750\n"
          ]
        }
      ],
      "source": [
        "print('R-squared: ', reg.score(X_d, y)) # R squared measure\n",
        "print(results)\n",
        "print(Q2.groupby('Neighbourhood ')[['Price', 'Review Scores Rating']].mean().rename(columns={\n",
        "    'Price': 'Average Price', \n",
        "    'Score': 'Average Review Score'\n",
        "})\n",
        ".reset_index())"
      ]
    },
    {
      "cell_type": "markdown",
      "id": "20bb67bb",
      "metadata": {},
      "source": [
        "What pattern do you see? \n",
        "- The coefficients are exactly the same as the average prices for corresponding neighbourhood!\n",
        "\n",
        "What are the coefficients in a regression of a continuous variable on one categorical variable?\n",
        "- They are the average dependent variable for that category! In this case, mean price for given categorical variable"
      ]
    },
    {
      "cell_type": "markdown",
      "id": "79f33bf7",
      "metadata": {},
      "source": [
        "3. Repeat part 2, but leave an intercept in the linear model. How do you have to handle the creation of the dummies differently? What is the intercept? Interpret the coefficients. How can I get the coefficients in part 2 from these new coefficients?"
      ]
    },
    {
      "cell_type": "code",
      "execution_count": 8,
      "id": "17b1dc35",
      "metadata": {},
      "outputs": [
        {
          "name": "stdout",
          "output_type": "stream",
          "text": [
            "        variable  coefficient\n",
            "0      intercept    75.276498\n",
            "1       Brooklyn    52.470881\n",
            "2      Manhattan   108.387789\n",
            "3         Queens    21.580735\n",
            "4  Staten Island    70.890169\n",
            "  Neighbourhood   Average Price  Review Scores Rating\n",
            "0          Bronx      75.276498             91.654378\n",
            "1       Brooklyn     127.747378             92.363497\n",
            "2      Manhattan     183.664286             91.801496\n",
            "3         Queens      96.857233             91.549057\n",
            "4  Staten Island     146.166667             90.843750\n"
          ]
        }
      ],
      "source": [
        "X_d_int = pd.get_dummies(Q2['Neighbourhood '],dtype='int',drop_first=True) # Create brand dummies\n",
        "reg_with_int = LinearRegression(fit_intercept=True).fit(X_d_int, y) # Fit the linear model with int\n",
        "results_with_int = pd.DataFrame({\n",
        "    'variable': ['intercept'] + list(reg_with_int.feature_names_in_), \n",
        "    'coefficient': [reg_with_int.intercept_] + list(reg_with_int.coef_)\n",
        "})\n",
        "print(results_with_int)\n",
        "print(Q2.groupby('Neighbourhood ')[['Price', 'Review Scores Rating']].mean().rename(columns={\n",
        "    'Price': 'Average Price', \n",
        "    'Score': 'Average Review Score'\n",
        "})\n",
        ".reset_index())"
      ]
    },
    {
      "cell_type": "markdown",
      "id": "3e1bac49",
      "metadata": {},
      "source": [
        "You need to drop the first dummy! The intercept is the average price for the Bronx. The coefficients are still the average price for corresponding Neighbourhood. Coefficients in part 2 are the same, just that Bronx mean price is in the intercept now. "
      ]
    },
    {
      "cell_type": "markdown",
      "id": "55a6a246",
      "metadata": {},
      "source": [
        "4. Split the sample 80/20 into a training and a test set. Run a regression of `Price` on `Review Scores Rating` and `Neighbourhood `. What is the $R^2$ and RMSE on the test set? What is the coefficient on `Review Scores Rating`? What is the most expensive kind of property you can rent?"
      ]
    },
    {
      "cell_type": "code",
      "execution_count": 9,
      "id": "87b815d5",
      "metadata": {},
      "outputs": [
        {
          "data": {
            "text/plain": [
              "0    549\n",
              "1    149\n",
              "2    250\n",
              "3     90\n",
              "4    270\n",
              "Name: Price, dtype: int64"
            ]
          },
          "execution_count": 9,
          "metadata": {},
          "output_type": "execute_result"
        }
      ],
      "source": [
        "y[0:5]"
      ]
    },
    {
      "cell_type": "code",
      "execution_count": 10,
      "id": "6d6fda36",
      "metadata": {},
      "outputs": [],
      "source": [
        "X_num = Q2.loc[:,'Review Scores Rating'] # Create feature matrix\n",
        "X = pd.concat( [X_num, X_d],axis=1)"
      ]
    },
    {
      "cell_type": "code",
      "execution_count": 11,
      "id": "ea68ac2e",
      "metadata": {},
      "outputs": [],
      "source": [
        "\n",
        "# Split the sample:\n",
        "from sklearn.model_selection import train_test_split\n",
        "X_train, X_test, y_train, y_test = train_test_split(X,y, # Feature and target variables\n",
        "                                                    test_size=.2, # Split the sample 80 train/ 20 test\n",
        "                                                                                              random_state=65) # For replication purposes"
      ]
    },
    {
      "cell_type": "code",
      "execution_count": 12,
      "id": "c01bd4b4",
      "metadata": {},
      "outputs": [
        {
          "name": "stdout",
          "output_type": "stream",
          "text": [
            "               variable  coefficient\n",
            "0  Review Scores Rating     1.016096\n",
            "1                 Bronx   -17.990354\n",
            "2              Brooklyn    33.192821\n",
            "3             Manhattan    89.938768\n",
            "4                Queens     3.694639\n",
            "5         Staten Island    65.146603\n",
            "0.029117109332053026 is the r2\n",
            "194.04749432993748 is the rmse\n"
          ]
        }
      ],
      "source": [
        "from sklearn.metrics import mean_squared_error\n",
        "\n",
        "reg2 = LinearRegression(fit_intercept=False).fit(X_train, y_train)\n",
        "results2 = pd.DataFrame({'variable':reg2.feature_names_in_, 'coefficient': reg2.coef_}) # Regression coefficients\n",
        "y_pred = reg2.predict(X_test)\n",
        "r2 = reg2.score(X_test, y_test)\n",
        "rmse = np.sqrt(mean_squared_error(y_test, y_pred))\n",
        "\n",
        "print(results2)\n",
        "\n",
        "print(f\"{r2} is the r2\")\n",
        "print(f\"{rmse} is the rmse\")"
      ]
    },
    {
      "cell_type": "markdown",
      "id": "1427886c",
      "metadata": {},
      "source": [
        "1.016096 is the coefficient on Review Scores Rating. \n",
        "\n",
        "The most expensive kind of property you can rent is one in Manhattan. "
      ]
    },
    {
      "cell_type": "markdown",
      "id": "b6dac226",
      "metadata": {},
      "source": [
        "5. Split the sample 80/20 into a training and a test set. Run a regression of `Price` on `Review Scores Rating` and `Neighbourhood ` and `Property Type`. What is the $R^2$ and RMSE on the test set? What is the coefficient on `Review Scores Rating`? What is the most expensive kind of property you can rent?"
      ]
    },
    {
      "cell_type": "code",
      "execution_count": 13,
      "id": "1cdb4c76",
      "metadata": {},
      "outputs": [],
      "source": [
        "X_d = pd.get_dummies(Q2['Property Type'],dtype='int',drop_first=False) # Create dummies\n",
        "X2 = pd.concat( [X, X_d],axis=1)\n",
        "\n",
        "\n",
        "# Split the sample:\n",
        "from sklearn.model_selection import train_test_split\n",
        "X_train, X_test, y_train, y_test = train_test_split(X2,y, # Feature and target variables\n",
        "                                                    test_size=.2, # Split the sample 80 train/ 20 test\n",
        "                                                                                              random_state=65) # For replication purposes"
      ]
    },
    {
      "cell_type": "code",
      "execution_count": 14,
      "id": "0d9e14cb",
      "metadata": {},
      "outputs": [
        {
          "name": "stdout",
          "output_type": "stream",
          "text": [
            "                variable  coefficient\n",
            "0   Review Scores Rating     1.002221\n",
            "1                  Bronx   -35.228208\n",
            "2               Brooklyn    22.467930\n",
            "3              Manhattan    84.234786\n",
            "4                 Queens    -8.584434\n",
            "5          Staten Island    40.307016\n",
            "6              Apartment     5.308304\n",
            "7        Bed & Breakfast   -30.638226\n",
            "8                   Boat    61.698439\n",
            "9               Bungalow    32.876794\n",
            "10                 Cabin    40.482729\n",
            "11             Camper/RV    -9.612582\n",
            "12                Castle   -34.456861\n",
            "13                Chalet   -22.687784\n",
            "14           Condominium   107.793596\n",
            "15                  Dorm   -43.249811\n",
            "16                 House    36.413342\n",
            "17                   Hut  -128.443536\n",
            "18            Lighthouse   -83.690005\n",
            "19                  Loft    68.132865\n",
            "20                 Other    50.528956\n",
            "21             Townhouse    83.562549\n",
            "22             Treehouse   -70.429101\n",
            "23                 Villa    39.607422\n",
            "0.033406842115458635 is the r2\n",
            "193.618331646353 is the rmse\n"
          ]
        }
      ],
      "source": [
        "reg2 = LinearRegression(fit_intercept=False).fit(X_train, y_train)\n",
        "results2 = pd.DataFrame({'variable':reg2.feature_names_in_, 'coefficient': reg2.coef_}) # Regression coefficients\n",
        "y_pred = reg2.predict(X_test)\n",
        "r2 = reg2.score(X_test, y_test)\n",
        "rmse = np.sqrt(mean_squared_error(y_test, y_pred))\n",
        "\n",
        "print(results2)\n",
        "\n",
        "print(f\"{r2} is the r2\")\n",
        "print(f\"{rmse} is the rmse\")"
      ]
    },
    {
      "cell_type": "markdown",
      "id": "df446e0f",
      "metadata": {},
      "source": [
        "Most expensive kind of property you can buy is a condominium. "
      ]
    },
    {
      "cell_type": "markdown",
      "id": "10f89e04",
      "metadata": {},
      "source": [
        "6. What does the coefficient on `Review Scores Rating` mean if it changes from part 4 to 5? Hint: Think about how multilple linear regression works."
      ]
    },
    {
      "cell_type": "markdown",
      "id": "c81912c4",
      "metadata": {},
      "source": [
        "It did not change much. The coefficient means after accounting for property type and neighbourhood, for each one unit increase in review score rating, price increases by 1.0022."
      ]
    },
    {
      "cell_type": "markdown",
      "id": "5f0ad403",
      "metadata": {},
      "source": [
        "7. (Optional) We've included `Neighborhood ` and `Property Type` separately in the model. How do you interact them, so you can have \"A bedroom in Queens\" or \"A townhouse in Manhattan\". Split the sample 80/20 into a training and a test set and run a regression including that kind of \"property type X neighborhood\" dummy, plus `Review Scores Rating`. How does the slope coefficient for `Review Scores Rating`, the $R^2$, and the RMSE change? Do they increase significantly compares to part 5? Are the coefficients in this regression just the sum of the coefficients for `Neighbourhood ` and `Property Type` from 5? What is the most expensive kind of property you can rent?"
      ]
    },
    {
      "cell_type": "markdown",
      "id": "95f22300-0180-4ed2-be8f-ed56cf4cd36b",
      "metadata": {
        "id": "95f22300-0180-4ed2-be8f-ed56cf4cd36b"
      },
      "source": [
        "**Q3.** This question is a case study for linear models. The data are about car prices. In particular, they include:\n",
        "\n",
        "  - `Price`, `Color`, `Seating_Capacity`\n",
        "  - `Body_Type`: crossover, hatchback, muv, sedan, suv\n",
        "  - `Make`, `Make_Year`: The brand of car and year produced\n",
        "  - `Mileage_Run`: The number of miles on the odometer\n",
        "  - `Fuel_Type`: Diesel or gasoline/petrol\n",
        "  - `Transmission`, `Transmission_Type`:  speeds and automatic/manual\n",
        "\n",
        "  1. Load `cars_hw.csv`. These data were really dirty, and I've already cleaned them a significant amount in terms of missing values and other issues, but some issues remain (e.g. outliers, badly scaled variables that require a log or arcsinh transformation). Clean the data however you think is most appropriate.\n",
        "  "
      ]
    },
    {
      "cell_type": "code",
      "execution_count": 15,
      "id": "c2688838",
      "metadata": {},
      "outputs": [
        {
          "name": "stdout",
          "output_type": "stream",
          "text": [
            "<class 'pandas.core.frame.DataFrame'>\n",
            "RangeIndex: 976 entries, 0 to 975\n",
            "Data columns (total 12 columns):\n",
            " #   Column             Non-Null Count  Dtype \n",
            "---  ------             --------------  ----- \n",
            " 0   Unnamed: 0         976 non-null    int64 \n",
            " 1   Make               976 non-null    object\n",
            " 2   Make_Year          976 non-null    int64 \n",
            " 3   Color              976 non-null    object\n",
            " 4   Body_Type          976 non-null    object\n",
            " 5   Mileage_Run        976 non-null    int64 \n",
            " 6   No_of_Owners       976 non-null    object\n",
            " 7   Seating_Capacity   976 non-null    int64 \n",
            " 8   Fuel_Type          976 non-null    object\n",
            " 9   Transmission       976 non-null    object\n",
            " 10  Transmission_Type  976 non-null    object\n",
            " 11  Price              976 non-null    int64 \n",
            "dtypes: int64(5), object(7)\n",
            "memory usage: 91.6+ KB\n"
          ]
        }
      ],
      "source": [
        "cars = pd.read_csv(\"/Users/isaactabor/linearModels/assignment/data/cars_hw.csv\")\n",
        "cars.info()"
      ]
    },
    {
      "cell_type": "code",
      "execution_count": 16,
      "id": "cbc38567",
      "metadata": {},
      "outputs": [],
      "source": [
        "cars.drop('Unnamed: 0', axis=1, inplace=True)"
      ]
    },
    {
      "cell_type": "markdown",
      "id": "32acf81d",
      "metadata": {},
      "source": [
        "2. Summarize the `Price` variable and create a kernel density plot. Use `.groupby()` and `.describe()` to summarize prices by brand (`Make`). Make a grouped kernel density plot by `Make`. Which car brands are the most expensive? What do prices look like in general?"
      ]
    },
    {
      "cell_type": "code",
      "execution_count": 17,
      "id": "b57f2b71",
      "metadata": {},
      "outputs": [
        {
          "data": {
            "text/plain": [
              "count    9.760000e+02\n",
              "mean     7.410195e+05\n",
              "std      3.673234e+05\n",
              "min      1.880000e+05\n",
              "25%      4.757500e+05\n",
              "50%      6.665000e+05\n",
              "75%      8.830000e+05\n",
              "max      2.941000e+06\n",
              "Name: Price, dtype: float64"
            ]
          },
          "execution_count": 17,
          "metadata": {},
          "output_type": "execute_result"
        }
      ],
      "source": [
        "cars['Price'].describe()"
      ]
    },
    {
      "cell_type": "code",
      "execution_count": 18,
      "id": "3df57a78",
      "metadata": {},
      "outputs": [
        {
          "data": {
            "image/png": "[encoded data removed]",
            "text/plain": [
              "<Figure size 1200x500 with 1 Axes>"
            ]
          },
          "metadata": {},
          "output_type": "display_data"
        }
      ],
      "source": [
        "plt.figure(figsize=(12, 5))\n",
        "sns.kdeplot(data=cars, x='Price', hue='Make', fill=True)\n",
        "plt.title(\"Kernel Density Plot of Price by Make\")\n",
        "plt.xlabel(\"Price\")\n",
        "plt.show()"
      ]
    },
    {
      "cell_type": "code",
      "execution_count": 19,
      "id": "cd5c2997",
      "metadata": {},
      "outputs": [
        {
          "data": {
            "text/html": [
              "<div>\n",
              "<style scoped>\n",
              "    .dataframe tbody tr th:only-of-type {\n",
              "        vertical-align: middle;\n",
              "    }\n",
              "\n",
              "    .dataframe tbody tr th {\n",
              "        vertical-align: top;\n",
              "    }\n",
              "\n",
              "    .dataframe thead th {\n",
              "        text-align: right;\n",
              "    }\n",
              "</style>\n",
              "<table border=\"1\" class=\"dataframe\">\n",
              "  <thead>\n",
              "    <tr style=\"text-align: right;\">\n",
              "      <th></th>\n",
              "      <th>count</th>\n",
              "      <th>mean</th>\n",
              "      <th>std</th>\n",
              "      <th>min</th>\n",
              "      <th>25%</th>\n",
              "      <th>50%</th>\n",
              "      <th>75%</th>\n",
              "      <th>max</th>\n",
              "    </tr>\n",
              "    <tr>\n",
              "      <th>Make</th>\n",
              "      <th></th>\n",
              "      <th></th>\n",
              "      <th></th>\n",
              "      <th></th>\n",
              "      <th></th>\n",
              "      <th></th>\n",
              "      <th></th>\n",
              "      <th></th>\n",
              "    </tr>\n",
              "  </thead>\n",
              "  <tbody>\n",
              "    <tr>\n",
              "      <th>Datsun</th>\n",
              "      <td>3.0</td>\n",
              "      <td>2.896667e+05</td>\n",
              "      <td>1.050397e+04</td>\n",
              "      <td>279000.0</td>\n",
              "      <td>284500.0</td>\n",
              "      <td>290000.0</td>\n",
              "      <td>295000.0</td>\n",
              "      <td>300000.0</td>\n",
              "    </tr>\n",
              "    <tr>\n",
              "      <th>Chevrolet</th>\n",
              "      <td>6.0</td>\n",
              "      <td>4.535000e+05</td>\n",
              "      <td>2.466064e+05</td>\n",
              "      <td>267000.0</td>\n",
              "      <td>288500.0</td>\n",
              "      <td>345500.0</td>\n",
              "      <td>537500.0</td>\n",
              "      <td>892000.0</td>\n",
              "    </tr>\n",
              "    <tr>\n",
              "      <th>Maruti Suzuki</th>\n",
              "      <td>293.0</td>\n",
              "      <td>5.887850e+05</td>\n",
              "      <td>2.160199e+05</td>\n",
              "      <td>237000.0</td>\n",
              "      <td>411000.0</td>\n",
              "      <td>527000.0</td>\n",
              "      <td>764000.0</td>\n",
              "      <td>1163000.0</td>\n",
              "    </tr>\n",
              "    <tr>\n",
              "      <th>Volkswagen</th>\n",
              "      <td>29.0</td>\n",
              "      <td>6.058276e+05</td>\n",
              "      <td>1.198312e+05</td>\n",
              "      <td>402000.0</td>\n",
              "      <td>542000.0</td>\n",
              "      <td>607000.0</td>\n",
              "      <td>699000.0</td>\n",
              "      <td>790000.0</td>\n",
              "    </tr>\n",
              "    <tr>\n",
              "      <th>Renault</th>\n",
              "      <td>68.0</td>\n",
              "      <td>6.625735e+05</td>\n",
              "      <td>2.148273e+05</td>\n",
              "      <td>287000.0</td>\n",
              "      <td>475000.0</td>\n",
              "      <td>644000.0</td>\n",
              "      <td>801000.0</td>\n",
              "      <td>1164000.0</td>\n",
              "    </tr>\n",
              "    <tr>\n",
              "      <th>Hyundai</th>\n",
              "      <td>305.0</td>\n",
              "      <td>6.918918e+05</td>\n",
              "      <td>2.791597e+05</td>\n",
              "      <td>248000.0</td>\n",
              "      <td>485000.0</td>\n",
              "      <td>638000.0</td>\n",
              "      <td>837000.0</td>\n",
              "      <td>1742000.0</td>\n",
              "    </tr>\n",
              "    <tr>\n",
              "      <th>Ford</th>\n",
              "      <td>52.0</td>\n",
              "      <td>7.211731e+05</td>\n",
              "      <td>1.409277e+05</td>\n",
              "      <td>290000.0</td>\n",
              "      <td>635000.0</td>\n",
              "      <td>707500.0</td>\n",
              "      <td>787000.0</td>\n",
              "      <td>1066000.0</td>\n",
              "    </tr>\n",
              "    <tr>\n",
              "      <th>Honda</th>\n",
              "      <td>73.0</td>\n",
              "      <td>7.989726e+05</td>\n",
              "      <td>2.665091e+05</td>\n",
              "      <td>316000.0</td>\n",
              "      <td>581000.0</td>\n",
              "      <td>785000.0</td>\n",
              "      <td>915000.0</td>\n",
              "      <td>1537000.0</td>\n",
              "    </tr>\n",
              "    <tr>\n",
              "      <th>Toyota</th>\n",
              "      <td>50.0</td>\n",
              "      <td>8.003400e+05</td>\n",
              "      <td>2.466900e+05</td>\n",
              "      <td>368000.0</td>\n",
              "      <td>526250.0</td>\n",
              "      <td>894000.0</td>\n",
              "      <td>1023000.0</td>\n",
              "      <td>1092000.0</td>\n",
              "    </tr>\n",
              "    <tr>\n",
              "      <th>Nissan</th>\n",
              "      <td>4.0</td>\n",
              "      <td>8.842500e+05</td>\n",
              "      <td>2.895599e+05</td>\n",
              "      <td>475000.0</td>\n",
              "      <td>782500.0</td>\n",
              "      <td>978000.0</td>\n",
              "      <td>1079750.0</td>\n",
              "      <td>1106000.0</td>\n",
              "    </tr>\n",
              "    <tr>\n",
              "      <th>Tata</th>\n",
              "      <td>23.0</td>\n",
              "      <td>1.055217e+06</td>\n",
              "      <td>5.578305e+05</td>\n",
              "      <td>188000.0</td>\n",
              "      <td>779500.0</td>\n",
              "      <td>869000.0</td>\n",
              "      <td>1552000.0</td>\n",
              "      <td>2100000.0</td>\n",
              "    </tr>\n",
              "    <tr>\n",
              "      <th>Mahindra</th>\n",
              "      <td>18.0</td>\n",
              "      <td>1.100167e+06</td>\n",
              "      <td>1.755493e+05</td>\n",
              "      <td>796000.0</td>\n",
              "      <td>1037000.0</td>\n",
              "      <td>1094500.0</td>\n",
              "      <td>1157000.0</td>\n",
              "      <td>1465000.0</td>\n",
              "    </tr>\n",
              "    <tr>\n",
              "      <th>Skoda</th>\n",
              "      <td>5.0</td>\n",
              "      <td>1.136000e+06</td>\n",
              "      <td>1.070175e+06</td>\n",
              "      <td>436000.0</td>\n",
              "      <td>466000.0</td>\n",
              "      <td>538000.0</td>\n",
              "      <td>1299000.0</td>\n",
              "      <td>2941000.0</td>\n",
              "    </tr>\n",
              "    <tr>\n",
              "      <th>Jeep</th>\n",
              "      <td>4.0</td>\n",
              "      <td>1.499500e+06</td>\n",
              "      <td>1.525134e+05</td>\n",
              "      <td>1290000.0</td>\n",
              "      <td>1447500.0</td>\n",
              "      <td>1529500.0</td>\n",
              "      <td>1581500.0</td>\n",
              "      <td>1649000.0</td>\n",
              "    </tr>\n",
              "    <tr>\n",
              "      <th>Kia</th>\n",
              "      <td>8.0</td>\n",
              "      <td>1.614750e+06</td>\n",
              "      <td>1.190567e+05</td>\n",
              "      <td>1369000.0</td>\n",
              "      <td>1579000.0</td>\n",
              "      <td>1628500.0</td>\n",
              "      <td>1705750.0</td>\n",
              "      <td>1741000.0</td>\n",
              "    </tr>\n",
              "    <tr>\n",
              "      <th>MG Motors</th>\n",
              "      <td>35.0</td>\n",
              "      <td>1.869457e+06</td>\n",
              "      <td>1.216611e+05</td>\n",
              "      <td>1589000.0</td>\n",
              "      <td>1786500.0</td>\n",
              "      <td>1848000.0</td>\n",
              "      <td>1978000.0</td>\n",
              "      <td>2019000.0</td>\n",
              "    </tr>\n",
              "  </tbody>\n",
              "</table>\n",
              "</div>"
            ],
            "text/plain": [
              "               count          mean           std        min        25%  \\\n",
              "Make                                                                     \n",
              "Datsun           3.0  2.896667e+05  1.050397e+04   279000.0   284500.0   \n",
              "Chevrolet        6.0  4.535000e+05  2.466064e+05   267000.0   288500.0   \n",
              "Maruti Suzuki  293.0  5.887850e+05  2.160199e+05   237000.0   411000.0   \n",
              "Volkswagen      29.0  6.058276e+05  1.198312e+05   402000.0   542000.0   \n",
              "Renault         68.0  6.625735e+05  2.148273e+05   287000.0   475000.0   \n",
              "Hyundai        305.0  6.918918e+05  2.791597e+05   248000.0   485000.0   \n",
              "Ford            52.0  7.211731e+05  1.409277e+05   290000.0   635000.0   \n",
              "Honda           73.0  7.989726e+05  2.665091e+05   316000.0   581000.0   \n",
              "Toyota          50.0  8.003400e+05  2.466900e+05   368000.0   526250.0   \n",
              "Nissan           4.0  8.842500e+05  2.895599e+05   475000.0   782500.0   \n",
              "Tata            23.0  1.055217e+06  5.578305e+05   188000.0   779500.0   \n",
              "Mahindra        18.0  1.100167e+06  1.755493e+05   796000.0  1037000.0   \n",
              "Skoda            5.0  1.136000e+06  1.070175e+06   436000.0   466000.0   \n",
              "Jeep             4.0  1.499500e+06  1.525134e+05  1290000.0  1447500.0   \n",
              "Kia              8.0  1.614750e+06  1.190567e+05  1369000.0  1579000.0   \n",
              "MG Motors       35.0  1.869457e+06  1.216611e+05  1589000.0  1786500.0   \n",
              "\n",
              "                     50%        75%        max  \n",
              "Make                                            \n",
              "Datsun          290000.0   295000.0   300000.0  \n",
              "Chevrolet       345500.0   537500.0   892000.0  \n",
              "Maruti Suzuki   527000.0   764000.0  1163000.0  \n",
              "Volkswagen      607000.0   699000.0   790000.0  \n",
              "Renault         644000.0   801000.0  1164000.0  \n",
              "Hyundai         638000.0   837000.0  1742000.0  \n",
              "Ford            707500.0   787000.0  1066000.0  \n",
              "Honda           785000.0   915000.0  1537000.0  \n",
              "Toyota          894000.0  1023000.0  1092000.0  \n",
              "Nissan          978000.0  1079750.0  1106000.0  \n",
              "Tata            869000.0  1552000.0  2100000.0  \n",
              "Mahindra       1094500.0  1157000.0  1465000.0  \n",
              "Skoda           538000.0  1299000.0  2941000.0  \n",
              "Jeep           1529500.0  1581500.0  1649000.0  \n",
              "Kia            1628500.0  1705750.0  1741000.0  \n",
              "MG Motors      1848000.0  1978000.0  2019000.0  "
            ]
          },
          "execution_count": 19,
          "metadata": {},
          "output_type": "execute_result"
        }
      ],
      "source": [
        "cars.groupby('Make')['Price'].describe().sort_values(by='mean')"
      ]
    },
    {
      "cell_type": "markdown",
      "id": "934a9481",
      "metadata": {},
      "source": [
        "MG Motors and Kia are most expensive on average. Prices are generally centered between 0 and 1 (1e6) in the Kernel Density plot. "
      ]
    },
    {
      "cell_type": "markdown",
      "id": "ab9edd1d",
      "metadata": {},
      "source": [
        "  3. Split the data into an 80% training set and a 20% testing set."
      ]
    },
    {
      "cell_type": "code",
      "execution_count": 20,
      "id": "91dead23",
      "metadata": {},
      "outputs": [
        {
          "name": "stdout",
          "output_type": "stream",
          "text": [
            "<class 'pandas.core.frame.DataFrame'>\n",
            "RangeIndex: 976 entries, 0 to 975\n",
            "Data columns (total 11 columns):\n",
            " #   Column             Non-Null Count  Dtype \n",
            "---  ------             --------------  ----- \n",
            " 0   Make               976 non-null    object\n",
            " 1   Make_Year          976 non-null    int64 \n",
            " 2   Color              976 non-null    object\n",
            " 3   Body_Type          976 non-null    object\n",
            " 4   Mileage_Run        976 non-null    int64 \n",
            " 5   No_of_Owners       976 non-null    object\n",
            " 6   Seating_Capacity   976 non-null    int64 \n",
            " 7   Fuel_Type          976 non-null    object\n",
            " 8   Transmission       976 non-null    object\n",
            " 9   Transmission_Type  976 non-null    object\n",
            " 10  Price              976 non-null    int64 \n",
            "dtypes: int64(4), object(7)\n",
            "memory usage: 84.0+ KB\n",
            "None\n",
            "         Make  Make_Year   Color  Body_Type  Mileage_Run No_of_Owners  \\\n",
            "0  Volkswagen       2017  silver      sedan        44611          1st   \n",
            "1     Hyundai       2016     red  crossover        20305          1st   \n",
            "2       Honda       2019   white        suv        29540          2nd   \n",
            "3     Renault       2017  bronze  hatchback        35680          1st   \n",
            "4     Hyundai       2017  orange  hatchback        25126          1st   \n",
            "\n",
            "   Seating_Capacity Fuel_Type Transmission Transmission_Type   Price  \n",
            "0                 5    diesel      7-Speed         Automatic  657000  \n",
            "1                 5    petrol      5-Speed            Manual  682000  \n",
            "2                 5    petrol      5-Speed            Manual  793000  \n",
            "3                 5    petrol      5-Speed            Manual  414000  \n",
            "4                 5    petrol      5-Speed            Manual  515000  \n"
          ]
        }
      ],
      "source": [
        "print(cars.info())\n",
        "print(cars.head())"
      ]
    },
    {
      "cell_type": "code",
      "execution_count": 21,
      "id": "30810fe6",
      "metadata": {},
      "outputs": [],
      "source": [
        "y = cars['Price']\n",
        "X = cars.drop('Price', axis=1)\n",
        "\n",
        "# Split the sample:\n",
        "from sklearn.model_selection import train_test_split\n",
        "X_train, X_test, y_train, y_test = train_test_split(X,y, # Feature and target variables\n",
        "                                                    test_size=.2, # Split the sample 80 train/ 20 test\n",
        "                                                                                              random_state=65) # For replication purposes"
      ]
    },
    {
      "cell_type": "markdown",
      "id": "2176e916",
      "metadata": {},
      "source": [
        "4. Make a model where you regress price on the numeric variables alone; what is the $R^2$ and `RMSE` on the training set and test set? Make a second model where, for the categorical variables, you regress price on a model comprised of one-hot encoded regressors/features alone (you can use `pd.get_dummies()`; be careful of the dummy variable trap); what is the $R^2$ and `RMSE` on the test set? Which model performs better on the test set? Make a third model that combines all the regressors from the previous two; what is the $R^2$ and `RMSE` on the test set? Does the joint model perform better or worse, and by home much?"
      ]
    },
    {
      "cell_type": "code",
      "execution_count": 27,
      "id": "71213d99",
      "metadata": {},
      "outputs": [],
      "source": [
        "numeric_vars = X_train.select_dtypes(include=['int64']).columns\n",
        "categorical_vars = X_train.select_dtypes(exclude=['int64']).columns\n",
        "\n",
        "X_train_numeric = X_train[numeric_vars]\n",
        "X_test_numeric = X_test[numeric_vars]\n"
      ]
    },
    {
      "cell_type": "code",
      "execution_count": 40,
      "id": "ae891d56",
      "metadata": {},
      "outputs": [
        {
          "name": "stdout",
          "output_type": "stream",
          "text": [
            "Numeric Model - R^2 (Train): 0.0332, R^2 (Test): 0.0531\n",
            "Numeric Model - RMSE (Train): 363307.1003, RMSE (Test): 347714.9793\n"
          ]
        }
      ],
      "source": [
        "# Numeric Regression\n",
        "model_numeric = LinearRegression(fit_intercept=False).fit(X_train_numeric, y_train)\n",
        "\n",
        "y_train_pred_numeric = model_numeric.predict(X_train_numeric)\n",
        "y_test_pred_numeric = model_numeric.predict(X_test_numeric)\n",
        "\n",
        "# Evaluate model performance\n",
        "r2_train_numeric = r2_score(y_train, y_train_pred_numeric)\n",
        "r2_test_numeric = r2_score(y_test, y_test_pred_numeric)\n",
        "rmse_train_numeric = np.sqrt(mean_squared_error(y_train, y_train_pred_numeric))\n",
        "rmse_test_numeric = np.sqrt(mean_squared_error(y_test, y_test_pred_numeric))\n",
        "\n",
        "print(f\"Numeric Model - R^2 (Train): {r2_train_numeric:.4f}, R^2 (Test): {r2_test_numeric:.4f}\")\n",
        "print(f\"Numeric Model - RMSE (Train): {rmse_train_numeric:.4f}, RMSE (Test): {rmse_test_numeric:.4f}\")"
      ]
    },
    {
      "cell_type": "code",
      "execution_count": 34,
      "id": "9ba57772",
      "metadata": {},
      "outputs": [],
      "source": [
        "# Categorical Regression\n",
        "X_train_cat = pd.get_dummies(X_train[categorical_vars], drop_first=False)  # I dropped intercept\n",
        "X_test_cat = pd.get_dummies(X_test[categorical_vars], drop_first=False)\n",
        "\n",
        "X_train_cat, X_test_cat = X_train_cat.align(X_test_cat, join=\"left\", axis=1, fill_value=0)\n",
        "\n",
        "cat_model = LinearRegression(fit_intercept=False).fit(X_train_cat, y_train) # Fit the linear model & drop intercept\n",
        "\n",
        "y_train_pred_cat = cat_model.predict(X_train_cat)\n",
        "y_test_pred_cat = cat_model.predict(X_test_cat)\n"
      ]
    },
    {
      "cell_type": "code",
      "execution_count": 36,
      "id": "4d6f0328",
      "metadata": {},
      "outputs": [
        {
          "name": "stdout",
          "output_type": "stream",
          "text": [
            "Categorical Model - R^2 (Train): 0.7609, R^2 (Test): 0.7803\n",
            "Categorical Model - RMSE (Train): 180683.9876, RMSE (Test): 167505.4334\n"
          ]
        }
      ],
      "source": [
        "from sklearn.metrics import r2_score, mean_squared_error\n",
        "\n",
        "r2_train_cat = r2_score(y_train, y_train_pred_cat)\n",
        "r2_test_cat = r2_score(y_test, y_test_pred_cat)\n",
        "rmse_train_cat = np.sqrt(mean_squared_error(y_train, y_train_pred_cat))\n",
        "rmse_test_cat = np.sqrt(mean_squared_error(y_test, y_test_pred_cat))\n",
        "\n",
        "print(f\"Categorical Model - R^2 (Train): {r2_train_cat:.4f}, R^2 (Test): {r2_test_cat:.4f}\")\n",
        "print(f\"Categorical Model - RMSE (Train): {rmse_train_cat:.4f}, RMSE (Test): {rmse_test_cat:.4f}\")"
      ]
    },
    {
      "cell_type": "code",
      "execution_count": 37,
      "id": "87fb914d",
      "metadata": {},
      "outputs": [],
      "source": [
        "# Combined Regression\n",
        "X_train_combined = pd.concat([X_train_numeric, X_train_cat], axis=1)\n",
        "X_test_combined = pd.concat([X_test_numeric, X_test_cat], axis=1)\n",
        "\n",
        "model_combined = LinearRegression(fit_intercept=False).fit(X_train_combined, y_train) # Fit the linear model & drop intercept\n",
        "\n",
        "y_train_pred_combined = model_combined.predict(X_train_combined)\n",
        "y_test_pred_combined = model_combined.predict(X_test_combined)\n"
      ]
    },
    {
      "cell_type": "code",
      "execution_count": 38,
      "id": "70f91263",
      "metadata": {},
      "outputs": [
        {
          "name": "stdout",
          "output_type": "stream",
          "text": [
            "Combined Model - R^2 (Train): 0.8517, R^2 (Test): 0.8422\n",
            "Combined Model - RMSE (Train): 142275.5540, RMSE (Test): 141961.4107\n"
          ]
        }
      ],
      "source": [
        "# Evaluate performance\n",
        "r2_train_combined = r2_score(y_train, y_train_pred_combined)\n",
        "r2_test_combined = r2_score(y_test, y_test_pred_combined)\n",
        "rmse_train_combined = np.sqrt(mean_squared_error(y_train, y_train_pred_combined))\n",
        "rmse_test_combined = np.sqrt(mean_squared_error(y_test, y_test_pred_combined))\n",
        "\n",
        "print(f\"Combined Model - R^2 (Train): {r2_train_combined:.4f}, R^2 (Test): {r2_test_combined:.4f}\")\n",
        "print(f\"Combined Model - RMSE (Train): {rmse_train_combined:.4f}, RMSE (Test): {rmse_test_combined:.4f}\")"
      ]
    },
    {
      "cell_type": "markdown",
      "id": "36a32cff",
      "metadata": {},
      "source": [
        "**Model 1**\n",
        "\n",
        "- Numeric Model - R^2 (Train): 0.0332, \n",
        "- R^2 (Test): 0.0531\n",
        "- Numeric Model - RMSE (Train): 363307.1003, \n",
        "- RMSE (Test): 347714.9793\n",
        "\n",
        "\n",
        "**Model 2**\n",
        "\n",
        "- Categorical Model - R^2 (Train): 0.7609\n",
        "-  R^2 (Test): 0.7803\n",
        "- Categorical Model - RMSE (Train): 180683.9876, \n",
        "- RMSE (Test): 167505.4334\n",
        "\n",
        "\n",
        "**Model 3**\n",
        "- Combined Model - R^2 (Train): 0.8517, \n",
        "- R^2 (Test): 0.8422\n",
        "- Combined Model - RMSE (Train): 142275.5540, \n",
        "- RMSE (Test): 141961.4107\n"
      ]
    },
    {
      "cell_type": "code",
      "execution_count": 42,
      "id": "a5af79eb",
      "metadata": {},
      "outputs": [
        {
          "data": {
            "text/plain": [
              "'Best was the combined model by 38408 RMSE and 0.061899999999999955 R2'"
            ]
          },
          "execution_count": 42,
          "metadata": {},
          "output_type": "execute_result"
        }
      ],
      "source": [
        "f\"Best was the combined model by {180683-142275} RMSE and {.8422-.7803} R2\""
      ]
    },
    {
      "cell_type": "markdown",
      "id": "a41c4eab",
      "metadata": {},
      "source": [
        "'Best was the combined model by 38408 RMSE and 0.061899999999999955 R2'.\n",
        "\n",
        "It could be overfitting though"
      ]
    },
    {
      "cell_type": "markdown",
      "id": "d4931c9c",
      "metadata": {},
      "source": [
        "  5. Use the `PolynomialFeatures` function from `sklearn` to expand the set of numerical variables you're using in the regression. As you increase the degree of the expansion, how do the $R^2$ and `RMSE` change? At what point does $R^2$ go negative on the test set? For your best model with expanded features, what is the $R^2$ and `RMSE`? How does it compare to your best model from part 4?"
      ]
    },
    {
      "cell_type": "code",
      "execution_count": 45,
      "id": "e692b3f7",
      "metadata": {},
      "outputs": [],
      "source": [
        "from sklearn.preprocessing import PolynomialFeatures\n"
      ]
    },
    {
      "cell_type": "code",
      "execution_count": 44,
      "id": "6b5feb1f",
      "metadata": {},
      "outputs": [
        {
          "name": "stdout",
          "output_type": "stream",
          "text": [
            "Degree 1:\n",
            "  R^2 (Train): 0.3111, R^2 (Test): 0.3166\n",
            "  RMSE (Train): 306674.8003, RMSE (Test): 295400.4878\n",
            "----------------------------------------\n",
            "Degree 2:\n",
            "  R^2 (Train): 0.3483, R^2 (Test): 0.3351\n",
            "  RMSE (Train): 298274.7949, RMSE (Test): 291379.7548\n",
            "----------------------------------------\n",
            "Degree 3:\n",
            "  R^2 (Train): 0.3620, R^2 (Test): 0.3394\n",
            "  RMSE (Train): 295134.0925, RMSE (Test): 290436.7524\n",
            "----------------------------------------\n",
            "Degree 4:\n",
            "  R^2 (Train): 0.3713, R^2 (Test): 0.3392\n",
            "  RMSE (Train): 292969.2531, RMSE (Test): 290483.5797\n",
            "----------------------------------------\n",
            "Degree 5:\n",
            "  R^2 (Train): 0.3567, R^2 (Test): 0.3229\n",
            "  RMSE (Train): 296350.7949, RMSE (Test): 294032.9851\n",
            "----------------------------------------\n",
            "Degree 6:\n",
            "  R^2 (Train): 0.3521, R^2 (Test): 0.3145\n",
            "  RMSE (Train): 297418.0795, RMSE (Test): 295851.4861\n",
            "----------------------------------------\n",
            "Degree 7:\n",
            "  R^2 (Train): 0.3504, R^2 (Test): 0.3180\n",
            "  RMSE (Train): 297808.1084, RMSE (Test): 295094.9313\n",
            "----------------------------------------\n",
            "Degree 8:\n",
            "  R^2 (Train): 0.3408, R^2 (Test): 0.3270\n",
            "  RMSE (Train): 299987.0931, RMSE (Test): 293140.0942\n",
            "----------------------------------------\n",
            "Degree 9:\n",
            "  R^2 (Train): 0.2800, R^2 (Test): 0.2804\n",
            "  RMSE (Train): 313527.6646, RMSE (Test): 303116.5917\n",
            "----------------------------------------\n",
            "Degree 10:\n",
            "  R^2 (Train): -0.0379, R^2 (Test): -0.1601\n",
            "  RMSE (Train): 376420.9803, RMSE (Test): 384882.2801\n",
            "----------------------------------------\n",
            "R^2 on test set went negative at degree 10. Stopping loop.\n"
          ]
        }
      ],
      "source": [
        "degree = 1  # Start at linear\n",
        "r2_test = 0  # Initialize to a positive value\n",
        "\n",
        "while r2_test >= 0:  # Loop until R^2 on the test set is negative\n",
        "    # Expand numerical features\n",
        "    expander = PolynomialFeatures(degree=degree, include_bias=False)\n",
        "    Z_train = expander.fit_transform(X_train_numeric)\n",
        "    Z_test = expander.transform(X_test_numeric)\n",
        "\n",
        "    # Train regression model\n",
        "    model = LinearRegression()\n",
        "    model.fit(Z_train, y_train)\n",
        "\n",
        "    # Predictions\n",
        "    y_train_pred = model.predict(Z_train)\n",
        "    y_test_pred = model.predict(Z_test)\n",
        "\n",
        "    # Compute R^2 and RMSE\n",
        "    r2_train = r2_score(y_train, y_train_pred)\n",
        "    r2_test = r2_score(y_test, y_test_pred)\n",
        "    rmse_train = np.sqrt(mean_squared_error(y_train, y_train_pred))\n",
        "    rmse_test = np.sqrt(mean_squared_error(y_test, y_test_pred))\n",
        "\n",
        "    print(f\"Degree {degree}:\")\n",
        "    print(f\"  R^2 (Train): {r2_train:.4f}, R^2 (Test): {r2_test:.4f}\")\n",
        "    print(f\"  RMSE (Train): {rmse_train:.4f}, RMSE (Test): {rmse_test:.4f}\")\n",
        "    print(\"-\" * 40)\n",
        "\n",
        "    if r2_test < 0:\n",
        "        print(f\"R^2 on test set went negative at degree {degree}. Stopping loop.\")\n",
        "        break  # Stop the loop when R^2 becomes negative\n",
        "\n",
        "    degree += 1  # Increase polynomial degree\n"
      ]
    },
    {
      "cell_type": "markdown",
      "id": "1819d102",
      "metadata": {},
      "source": [
        "Highest R^2 was Degree 3 with R^2 of .3394, which was way better than my numeric one in previous part of .05"
      ]
    },
    {
      "cell_type": "markdown",
      "id": "2786e6d1",
      "metadata": {},
      "source": [
        "\n",
        "\n",
        "  \n",
        "\n",
        "  6. For your best model so far, determine the predicted values for the test data and plot them against the true values. Do the predicted values and true values roughly line up along the diagonal, or not? Compute the residuals/errors for the test data and create a kernel density plot. Do the residuals look roughly bell-shaped around zero? Evaluate the strengths and weaknesses of your model."
      ]
    },
    {
      "cell_type": "markdown",
      "id": "aedcd486",
      "metadata": {},
      "source": [
        "**Q4.** This question refers to the `heart_hw.csv` data. It contains three variables:\n",
        "\n",
        "  - `y`: Whether the individual survived for three years, coded 0 for death and 1 for survival\n",
        "  - `age`: Patient's age\n",
        "  - `transplant`: `control` for not receiving a transplant and `treatment` for receiving a transplant\n",
        "\n",
        "Since a heart transplant is a dangerous operation and even people who successfully get heart transplants might suffer later complications, we want to look at whether a group of transplant recipients tends to survive longer than a comparison group who does not get the procedure.\n",
        "\n",
        "1. Compute (a) the proportion of people who survive in the control group who do not receive a transplant, and (b) the difference between the proportion of people who survive in the treatment group and the proportion of people who survive in the control group. In a randomized controlled trial, this is called the **average treatment effect**.\n",
        "2. Regress `y` on `transplant` using a linear model with a constant. How does the constant/intercept of the regression and the coefficient on transplant compare to your answers from part 1? Explain the relationship clearly.\n",
        "3. We'd like to include `age` in the regression, since it's reasonable to expect that older patients are less likely to survive an extensive surgery like a heart transplant. Regress `y` on a constant, transplant, and age. How does the intercept change?\n",
        "4. Build a more flexible model that allows for non-linear age effects and interactions between age and treatment. Use a train-test split to validate your model. Estimate your best model, predict the survival probability by age, and plot your results conditional on receiving a transplant and not. Describe what you see.\n",
        "5. Imagine someone suggests using these kinds of models to select who receives organ transplants; perhaps the CDC or NIH starts using a scoring algorithm to decide who is contacted about a potential organ. What are your concerns about how it is built and how it is deployed?"
      ]
    },
    {
      "cell_type": "markdown",
      "id": "7bd15c6b-4c7c-4230-a199-e03e1054ec6a",
      "metadata": {
        "id": "7bd15c6b-4c7c-4230-a199-e03e1054ec6a"
      },
      "source": [
        "**Q5.** This is a question about linear regression. The outcome is whether a defendant is held pre-trial in the Virginia justice system. We would like to understand how that outcome is predicted by characteristics of the defendant, particularly race. Let's be very careful/clear: We aren't saying anyone *should* be held without bond or asserting that people with different demographic variables *should* be more likely to be held, but instead trying to predict whether people with different characteristics *are empirically more likely* to be held without bond, given the available information. This is the first step we would take in investigating whether a system is fair, or how large the disparities are: Does it treat people with similar observable characteristics similarly, or not? We are going to look at a common question: Are Black defendants treated differently from white or Asian ones? (There are Native American defendants, but there are 11 in total, which is such a small number of observations that is difficult to clearly say anything about how this group is treated relative to the others.)\n",
        "\n",
        "The variables in the data are:\n",
        "\n",
        "  - `held_wo_bail`: Whether a defendant is held without bail before trial (Boolean logical)\n",
        "  - `race`, `sex`: Categorical demographic variables\n",
        "  - `is_poor`: Whether the defendant is classified as indigent\n",
        "  - `prior_F`, `prior_M`: The number of prior felony and misdemeanor arrests\n",
        "  - `case_type`: A categorical variable indicating a misdemeanor `M` or felony `F` or infraction `I` or special case `S`\n",
        "  - `age`: Defendant's age\n",
        "  - `bond`, `bond_NA`, `bond_type`: The amount of any bond, whether it is missing, and the type\n",
        "  - `sentence`, `sentence_NA`, `sentence_type`: The length of any sentence, whether it is missing, and the type\n",
        "\n",
        "1. Load the `pretrial_data.csv` data. Notice that there are `nan`s, but the data are relatively clean. Because there are `.nan`s among variables you won't use, you'll want to narrow down your analysis to the relevant variables before dropping or imputing missing values.\n",
        "2. Create a dummy variable indicating that the defendant is Black.\n",
        "3. Regress `held` on `Black`. What is the slope coefficient Interpret the coefficient on the Black dummy variable: How much more likely is a black person to be held without bail? What is the $R^2$ of the model?\n",
        "4. Before doing this question, please think for a few minutes about how to make the process of running the following regressions as efficient as possible, before jumping into writing code. Repeat part 2, for the following specifications, keeping track of the coefficient on the Black dummy variable each time:\n",
        "      - `held` on `Black` and `sex`\n",
        "      - `held` on `Black` and `sex` and `is_poor`\n",
        "      - `held` on `Black` and `sex` and `is_poor` and `prior_F`\n",
        "      - `held` on `Black` and `sex` and `is_poor` and `prior_F` and `case_type`\n",
        "What happens to the coefficient on the Black dummy variable as you include more regressors/features/controls in the regression? Explain your findings.\n",
        "5. Suppose we don't want to see just `Black` and `sex`, but `Black` interacted with `sex`: Are Black men and Black women treated systemically differently from the rest of the population? Implement this in a regression, and explain your findings.\n",
        "6. Imagine someone argued we should use these kinds of models to help a judge or magistrate make bail decisions (you could obviously go back and make this kind of model for the bond and sentence variables, then deploy it on new cases to predict what their bond and sentence values would be). What concerns would you have? Do you think society should be using data-driven and automated tools like that? Explain your concerns clearly."
      ]
    },
    {
      "cell_type": "markdown",
      "id": "ca1cfba3",
      "metadata": {
        "vscode": {
          "languageId": "plaintext"
        }
      },
      "source": [
        "**Q6.** Let's explore multiple linear regression in a two-variable case, to build more intuition about what is happening.\n",
        "\n",
        "Suppose the model is \n",
        "$$\n",
        "\\hat{y}_i = b_0 + b_1 z_{i1} + b_2 z_{i2}\n",
        "$$\n",
        "Assume that $z_{ij}$ is centered or de-meaned, so that $z_{ij} = x_{ij} - m_j$ where $m_j$ is the mean of variable $j$ and $x_{ij}$ is the original value of variable $j$ for observation $i$. Notice that this implies\n",
        "$$\n",
        "\\dfrac{1}{N} \\sum_{i=1}^N z_{ij} = 0\n",
        "$$\n",
        "which will simplify your calculations below substantially!\n",
        "\n",
        "1. Write down the SSE for this model.\n",
        "2. Take partial derivatives with respect to $b_0$, $b_1$, and $b_2$.\n",
        "3. Verify that the average error is zero and $e \\cdot z =0$ at the optimum, just as in the single linear regression case.\n",
        "4. Show that the optimal intercept is $b_0^* = \\bar{y}$. Eliminate $b_0^*$ from the remaining equations, and focus on $b_1$ and $b_2$.\n",
        "5. Write your results as a matrix equation in the form \"$Ab=C$\". These are called the **normal equations**.\n",
        "6. Divide both sides by $N$ and substitute $z_{ij} = x_{ij} - m_j$ back into your normal equations for $x_{ij}$. What is the matrix $A$? What is the vector $C$? Explain the intuition of your discovery."
      ]
    },
    {
      "cell_type": "markdown",
      "id": "547d5828",
      "metadata": {},
      "source": [
        "**Q7.** In class, we showed that for the single linear regression model,\n",
        "\\begin{alignat*}{3}\n",
        "a^* &=& \\bar{y} \\\\\n",
        "b^* &=& \\dfrac{\\sum_{i=1}^N(y_i - \\bar{y})(x_i-\\bar{x})}{\\sum_{i=1}^N (x_i-\\bar{x})^2},\n",
        "\\end{alignat*}\n",
        "\n",
        "1. When will $b^*$ be large or small, depending on the relationship between $X$ and $Y$ and the variance of $X$?\n",
        "2. Suppose you have measurement error in $X$ which artificially inflates its variance (e.g. bad data cleaning). We'll model this as saying the \"real\" value of $X$ for observation $i$ is $z_i$, but we observe $x_i = z_i + n_i$, where $n_i$ is the added noise. Does this affect the intercept of the regression? What happens to the $b^*$ coefficient relative to a noise-less model? How will affect your ability to predict? (This phenomenon is called **attenuation**.) \n",
        "3. Suppose the noise $n_i$ is independent of $z_i$ and $y_i$, so that (approximately)\n",
        "$$\n",
        "\\dfrac{1}{N} \\sum_{i=1}^N (y_i - \\bar{y})(n_i - \\bar{n}) =0, \\quad \\dfrac{1}{N} \\sum_{i=1}^N (z_i - \\bar{z})(n_i - \\bar{n}) =0.\n",
        "$$\n",
        "and that the mean of the bias is zero, so that\n",
        "$$\n",
        "\\dfrac{1}{N} \\sum_{i=1}^N n_i = 0.\n",
        "$$\n",
        "In this case, the noise $n_i$ is zero on average and independent of the values of $x_i$ and $y_i$: It's just measurement error or lazy data cleaning.\n",
        "Explain the intuition of your result. \n",
        "\n",
        "4. How does attenuation factor into the cost-benefit analysis of gathering higher quality data or cleaning it more carefully?"
      ]
    },
    {
      "cell_type": "markdown",
      "id": "b67478ac-ad78-4a44-9720-583c71b8da14",
      "metadata": {
        "id": "b67478ac-ad78-4a44-9720-583c71b8da14"
      },
      "source": [
        "**Q8.**\n",
        "1. Find a dataset on a topic you're interested in. Some easy options are data.gov, kaggle.com, and data.world.\n",
        "2. Clean the data and do some exploratory data analysis on key variables that interest you. Pick a particular target/outcome variable and features/predictors.\n",
        "3. Split the sample into an ~80% training set and a ~20% test set.\n",
        "4. Run a few regressions of your target/outcome variable on a variety of features/predictors. Compute the SSE on the test set.\n",
        "5. Which model performed the best, and why?\n",
        "6. What did you learn?"
      ]
    },
    {
      "cell_type": "markdown",
      "id": "fcf48562",
      "metadata": {},
      "source": [
        "**Q9.** There is a folder called `heart_failure` which contains reasonably detailed health data on patients and whether they die of congestive heart failure. \n",
        "\n",
        "1. Load the data and perform an 80/20-train/test split.\n",
        "2. Using dummy/one-hot-encoded variables and transformations of the numeric features, build the best model you can. **But**, do not delete code chunks or revise your work substantially as you experiment. Just keep moving forward with your ideas and experiments.\n",
        "3. When you're done, scroll through your notebook. What worked and what didn't? Does your code have intention, or are you randomly experimenting? If you had to do this again, what might you do differently to get to a good model faster?\n"
      ]
    },
    {
      "cell_type": "markdown",
      "id": "0125d03b",
      "metadata": {
        "vscode": {
          "languageId": "plaintext"
        }
      },
      "source": [
        "**Q10.** Let's look at a cousin of Linear Regression, called **kernel regression** or **local constant least squares** or **Nadaraya-Watson Estimator**.\n",
        "\n",
        "We derived the OLS estimator for single linear regression by minimizing\n",
        "$$\n",
        "SSE(b_0, b_1) = \\frac{1}{N}\\sum_{i=1}^N (y_i - b_0 - b_1 x_i)^2\n",
        "$$\n",
        "with solution\n",
        "$$\n",
        "\\hat{b}_0 = \\bar{y} - \\hat{b}_1 \\bar{x}, \\quad \\hat{b}_1 = \\dfrac{\\frac{1}{N} \\sum_{i=1}^N (x_i-\\bar{x})(y_i - \\bar{y})}{s_x^2}.\n",
        "$$\n",
        "\n",
        "When you step back and think about it, this is a bit weird: The algorithm is computing sample means, variances, and covariances, and using those to create a predictive model. The data themselves arguably vanish from the solution. This is elegant, this is strange.\n",
        "\n",
        "Instead, let $k(z)$ be a kernel function, such as the Gaussian\n",
        "$$\n",
        "k(z) = \\frac{1}{\\sqrt{2\\pi}} e^{-z^2/2}\n",
        "$$\n",
        "or uniform\n",
        "$$\n",
        "k(z) = \\begin{cases}\n",
        "1/2, & |z| \\le \\frac{1}{2}\\\\\n",
        "0, & \\text{otherwise.}\n",
        "\\end{cases}\n",
        "$$\n",
        "We'll instead minimize, or each predictor value $x$,\n",
        "$$\n",
        "SSE(\\hat{y}(x)) = \\dfrac{1}{N} \\sum_{i=1}^N \\left\\lbrace y_i - \\hat{y}(x)\\right\\rbrace^2 \\dfrac{1}{h} k \\left( \\dfrac{x-x_i}{h} \\right).\n",
        "$$\n",
        "\n",
        "1. Show that the optimal predictor is\n",
        "$$\n",
        "\\hat{y}(x) = \\dfrac{ \\frac{1}{Nh} \\sum_{i=1}^N  y_i k \\left( \\dfrac{x-x_i}{h} \\right) }{\\frac{1}{Nh} \\sum_{i=1}^N k \\left(  \\dfrac{x-x_i}{h} \\right)}\n",
        "$$\n",
        "This has many names, but let's call it the local constant least squares (LCLS) estimator, as opposed to ordinary least squares (OLS).\n",
        "\n",
        "2. Compare and contrast LCLS with both OLS and $k$-Nearest Neighbor as a regression algorithm. \n",
        "\n",
        "3. Write a function or class that implements the LCLS estimator for a single predictor variable $x$. For a default bandwidth $h$, you can use the maximum of the Silverman plug-ins for estimating kernel densities for $X$ and $Y$:\n",
        "$$\n",
        "h_y = 1.06 \\times s_y^{-1/5}, \\quad h_x = 1.06 \\times s_x^{-1/5},\n",
        "$$\n",
        "$$\n",
        "h = \\max \\{ h_y, h_x \\}.\n",
        "$$\n",
        "For the kernel, you can hard-code the uniform, Gaussian, or Epanechnikov, or make it a parameter the user can adjust with a default choice.\n",
        "\n",
        "4. For one of the datasets available for the homework, use your LCLS estimator from part 3 to predict values $\\hat{y}(x_i)$ for each datapoint $x_i$. Plot your estimator $\\hat{y}$ as a line over a scatterplot of the data $\\{(x_i,y_i)\\}_{i=1}^N$. Tune the bandwidth until you \n",
        "\n",
        "5. Conceptually, how would you extend this analysis to a vector of predictors, $x = (x_1, ..., x_L)$ instead of just one explanatory variable $x$?\n"
      ]
    }
  ],
  "metadata": {
    "colab": {
      "provenance": []
    },
    "kernelspec": {
      "display_name": "Python 3",
      "language": "python",
      "name": "python3"
    },
    "language_info": {
      "codemirror_mode": {
        "name": "ipython",
        "version": 3
      },
      "file_extension": ".py",
      "mimetype": "text/x-python",
      "name": "python",
      "nbconvert_exporter": "python",
      "pygments_lexer": "ipython3",
      "version": "3.9.6"
    }
  },
  "nbformat": 4,
  "nbformat_minor": 5
}
